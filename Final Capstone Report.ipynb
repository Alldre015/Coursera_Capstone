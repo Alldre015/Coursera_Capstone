{
 "cells": [
  {
   "cell_type": "markdown",
   "metadata": {
    "collapsed": true
   },
   "source": [
    "# Data Science Professional - Applied Data Science Capstone\n",
    "## Feature Selection for Relocation Assistance\n",
    "\n",
    "## Introduction\n",
    "\n",
    "One of the main challenges of permanent relocation is determining whether you'll have lifelong love for your residential area.  Personally, I have lived in 3 different states (Connecticut, Florida, Maryland) and a handful of cities, but deciding where home will be for the majority of life has been extremely stressful.  Thus, I am curious about the similarities and dissimilarities between the neighborhoods of the city I live in currently (Baltimore), and a few prospective cities, primarily Atlanta and Seattle.  The Foursquare data allows a high level view of the structure of the local neighborhoods and the benefits they provide.  \n",
    "\n",
    "The main objective of this project is to create the first step in designing a neural network that would provide the opportunity of feature selection to aid:\n",
    "* Future prospective re-locators support in deciding which location would be ideal for permanent relocation.  \n",
    "* Further adjustment would allow realignment of the data to extend to vacationers as well. \n",
    "* Individual companies offering relocation assistance will be able to use this to attract potential candidates.  \n",
    "* Travel sites to advertise as a feature to aid in vacation planning.  "
   ]
  },
  {
   "cell_type": "markdown",
   "metadata": {},
   "source": [
    "## Data\n",
    "\n",
    "The data that will be used is as follows:\n",
    "* Foursquare location data\n",
    "  * Neighborhoods with Venues extracted\n",
    "* Wikipedia pages\n",
    "  * https://en.wikipedia.org/wiki/List_of_Baltimore_neighborhoods \n",
    "  * https://en.wikipedia.org/wiki/Neighborhoods_in_Atlanta \n",
    "  * https://en.wikipedia.org/wiki/List_of_neighborhoods_in_Seattle \n",
    "\n",
    "The exploration of the data will include the compiling of dataframes with the neighboorhoods and venues, but further we will compare and contrast the neighborhoods across the multiple cities in hopes to find a solid landing spot according to particular features."
   ]
  },
  {
   "cell_type": "code",
   "execution_count": null,
   "metadata": {},
   "outputs": [],
   "source": []
  }
 ],
 "metadata": {
  "kernelspec": {
   "display_name": "Python 3.5",
   "language": "python",
   "name": "python3"
  },
  "language_info": {
   "codemirror_mode": {
    "name": "ipython",
    "version": 3
   },
   "file_extension": ".py",
   "mimetype": "text/x-python",
   "name": "python",
   "nbconvert_exporter": "python",
   "pygments_lexer": "ipython3",
   "version": "3.5.5"
  }
 },
 "nbformat": 4,
 "nbformat_minor": 1
}
